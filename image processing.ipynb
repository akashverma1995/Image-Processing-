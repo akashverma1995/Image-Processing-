{
 "cells": [
  {
   "cell_type": "code",
   "execution_count": 3,
   "metadata": {},
   "outputs": [
    {
     "name": "stdout",
     "output_type": "stream",
     "text": [
      "(1440, 1920, 3)\n",
      "(1440, 1920, 3)\n",
      "(1440, 1920, 3)\n"
     ]
    }
   ],
   "source": [
    "\"\"\"\n",
    "Reading the images into python\n",
    "\n",
    "scikit-image\n",
    "opencv\n",
    "\n",
    "pilow: PIL-doesn't import images as numpty array.\n",
    "You can convert using numpy.asarray(img)\n",
    "\n",
    "\"\"\"\n",
    "\n",
    "from skimage import io, img_as_float , img_as_ubyte\n",
    "import matplotlib.pyplot as plt\n",
    "img=io.imread('_11114.tif')\n",
    "print(img.shape)# y,x,c(Height,Width,channel)\n",
    "\n",
    "img2=img_as_float(img)\n",
    "print(img2.shape)\n",
    "\n",
    "\n",
    "import numpy as np        \n",
    "img4=img.astype(np.float)  #  don't do this because it convert into float but it doesn't do scale \n",
    "print(img4.shape)\n",
    "#avoid using astype as it violates assumptions about dtype range.\n",
    "#for example float should range from 0 to 1 (or -1 to 1) but if you use \n",
    "#astype to convert to float, the values do not lie between 0 and 1. \n",
    "\n",
    "\n",
    "#Convert back to 8 bit\n",
    "img_8bit=img_as_ubyte(img2) # this line convert img into back to original image\n",
    "\n",
    "\n",
    "\n",
    "\n",
    "\n",
    "#############################\n",
    "\n",
    "#OPEN CV\n",
    "############################\n",
    "\"\"\"openCV is a library of programming functions mainly aimed at computer vision.\n",
    "Very good for images and videos, especially real time videos.\n",
    "It is used extensively for facial recognition, object recognition, motion tracking,\n",
    "optical character recognition, segmentation, and even for artificial neural netwroks. \n",
    "You can import images in color, grey scale or unchanged usingindividual commands \n",
    "cv2.IMREAD_COLOR : Loads a color image. Any transparency of image will be neglected. It is the default flag.\n",
    "cv2.IMREAD_GRAYSCALE : Loads image in grayscale mode\n",
    "cv2.IMREAD_UNCHANGED : Loads image as such including alpha channel\n",
    "Instead of these three flags, you can simply pass integers 1, 0 or -1 respectively.\"\"\"\n",
    "\n",
    "\n",
    "\n",
    "\n",
    "import cv2\n",
    "\n",
    "img_cv2=cv2.imread('_11114.tif')\n",
    "#BGR instead of RGB\n",
    "\n",
    "\n",
    "grey_img=cv2.imread('_11114.tif',0)\n",
    "color_img=cv2.imread('_11114.tif',1)\n",
    "\n",
    "img_opencv=cv2.cvtColor(color_img,cv2.COLOR_BGR2RGB)\n",
    "\n",
    "\n",
    "############################\n",
    "\n",
    "# Reading proprietry of images\n",
    "############################\n",
    "\n",
    "import tifffile as tf1\n",
    "img_tif=tf1.imread('_11114.tif')\n",
    "\n",
    "print(np.shape(img))\n",
    "\n",
    "#3D image\n",
    "img3D_tif=tf1.imread\n",
    "\n",
    "\n",
    "\n",
    "\n"
   ]
  },
  {
   "cell_type": "code",
   "execution_count": 12,
   "metadata": {},
   "outputs": [
    {
     "name": "stderr",
     "output_type": "stream",
     "text": [
      "/home/akash/anaconda3/lib/python3.7/site-packages/ipykernel_launcher.py:11: RuntimeWarning: Images with dimensions (M, N, 3) are interpreted as 2D+RGB by default. Use `multichannel=False` to interpret as 3D image with last dimension of length 3.\n",
      "  # This is added back by InteractiveShellApp.init_path()\n",
      "Lossy conversion from float64 to uint8. Range [0, 1]. Convert image to uint8 prior to saving to suppress this warning.\n"
     ]
    },
    {
     "data": {
      "text/plain": [
       "True"
      ]
     },
     "execution_count": 12,
     "metadata": {},
     "output_type": "execute_result"
    }
   ],
   "source": [
    "################\n",
    "#Saving images to local drive \n",
    "################\n",
    "  \n",
    "##### First way ----- skimage\n",
    "\n",
    "\n",
    "#Do something to the image\n",
    "#e.g. let us apply gaussian smoothing\n",
    "from skimage import filters\n",
    "gaussian_img=filters.gaussian(img,sigma=3)\n",
    "\n",
    "\n",
    "#Save image using skimage\n",
    "#Best way as it converts float images to RGB and scales them accordingly\n",
    "gaussian_img_8Bit=img_as_ubyte(gaussian_img)\n",
    "io.imsave('gaussian_img.jpg',gaussian_img)\n",
    "io.imsave('gaussian_img.tif',gaussian_img) #### image will not be visualize \n",
    "io.imsave('gaussian_img1.tif',gaussian_img_8Bit)\n",
    "\n",
    "\n",
    "##### Second way ------OpenCv\n",
    "\n",
    "cv2.imwrite('Gausian_opencv_img2.jpg',gaussian_img) ##### in this image all piexel are black because of \n",
    "                                                    ##### floating value of piexel so we will use ubyte \n",
    "cv2.imwrite('Gaussain_opencv_img3.jpg',gaussian_img_8Bit)\n",
    "\n",
    "\n",
    "gaussian_img_8byte_RGB=cv2.cvtColor(gaussian_img_8Bit,cv2.COLOR_BGR2RGB)\n",
    "cv2.imwrite('Gaussian_OPencv_img4_RGB.jpg',gaussian_img_8byte_RGB)\n",
    "\n",
    "\n",
    "\n",
    "\n"
   ]
  },
  {
   "cell_type": "code",
   "execution_count": null,
   "metadata": {},
   "outputs": [],
   "source": []
  }
 ],
 "metadata": {
  "kernelspec": {
   "display_name": "Python 3",
   "language": "python",
   "name": "python3"
  },
  "language_info": {
   "codemirror_mode": {
    "name": "ipython",
    "version": 3
   },
   "file_extension": ".py",
   "mimetype": "text/x-python",
   "name": "python",
   "nbconvert_exporter": "python",
   "pygments_lexer": "ipython3",
   "version": "3.7.6"
  }
 },
 "nbformat": 4,
 "nbformat_minor": 4
}

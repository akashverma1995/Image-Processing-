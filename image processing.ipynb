{
 "cells": [
  {
   "cell_type": "code",
   "execution_count": 16,
   "metadata": {},
   "outputs": [
    {
     "name": "stdout",
     "output_type": "stream",
     "text": [
      "(1440, 1920, 3)\n",
      "(1440, 1920, 3)\n",
      "(1440, 1920, 3)\n"
     ]
    }
   ],
   "source": [
    "\"\"\"\n",
    "Reading the images into python\n",
    "\n",
    "scikit-image\n",
    "opencv\n",
    "\n",
    "pilow: PIL-doesn't import images as numpty array.\n",
    "You can convert using numpy.asarray(img)\n",
    "\n",
    "\"\"\"\n",
    "\n",
    "from skimage import io, img_as_float , img_as_ubyte\n",
    "import matplotlib.pyplot as plt\n",
    "img=io.imread('_11114.tif')\n",
    "print(img.shape)# y,x,c(Height,Width,channel)\n",
    "\n",
    "img2=img_as_float(img)\n",
    "print(img2.shape)\n",
    "\n",
    "\n",
    "import numpy as np        \n",
    "img4=img.astype(np.float)  #  don't do this because it convert into float but it doesn't do scale \n",
    "print(img4.shape)\n",
    "#avoid using astype as it violates assumptions about dtype range.\n",
    "#for example float should range from 0 to 1 (or -1 to 1) but if you use \n",
    "#astype to convert to float, the values do not lie between 0 and 1. \n",
    "\n",
    "\n",
    "#Convert back to 8 bit\n",
    "img_8bit=img_as_ubyte(img2) # this line convert img into back to original image\n",
    "\n",
    "\n",
    "\n",
    "\n",
    "\n",
    "#############################\n",
    "\n",
    "#OPEN CV\n",
    "############################\n",
    "\"\"\"openCV is a library of programming functions mainly aimed at computer vision.\n",
    "Very good for images and videos, especially real time videos.\n",
    "It is used extensively for facial recognition, object recognition, motion tracking,\n",
    "optical character recognition, segmentation, and even for artificial neural netwroks. \n",
    "You can import images in color, grey scale or unchanged usingindividual commands \n",
    "cv2.IMREAD_COLOR : Loads a color image. Any transparency of image will be neglected. It is the default flag.\n",
    "cv2.IMREAD_GRAYSCALE : Loads image in grayscale mode\n",
    "cv2.IMREAD_UNCHANGED : Loads image as such including alpha channel\n",
    "Instead of these three flags, you can simply pass integers 1, 0 or -1 respectively.\"\"\"\n",
    "\n",
    "\n",
    "\n",
    "\n",
    "import cv2\n",
    "\n",
    "img_cv2=cv2.imread('_11114.tif')\n",
    "#BGR instead of RGB\n",
    "\n",
    "\n",
    "grey_img=cv2.imread('_11114.tif',0)\n",
    "color_img=cv2.imread('_11114.tif',1)\n",
    "\n",
    "img_opencv=cv2.cvtColor(color_img,cv2.COLOR_BGR2RGB)\n"
   ]
  },
  {
   "cell_type": "code",
   "execution_count": null,
   "metadata": {},
   "outputs": [],
   "source": []
  }
 ],
 "metadata": {
  "kernelspec": {
   "display_name": "Python 3",
   "language": "python",
   "name": "python3"
  },
  "language_info": {
   "codemirror_mode": {
    "name": "ipython",
    "version": 3
   },
   "file_extension": ".py",
   "mimetype": "text/x-python",
   "name": "python",
   "nbconvert_exporter": "python",
   "pygments_lexer": "ipython3",
   "version": "3.7.6"
  }
 },
 "nbformat": 4,
 "nbformat_minor": 4
}
